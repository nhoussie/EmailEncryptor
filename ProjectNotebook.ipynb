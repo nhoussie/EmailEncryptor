{
 "cells": [
  {
   "cell_type": "markdown",
   "metadata": {},
   "source": [
    "#                                     Advancing A2 Through Reversing Key Code! \n",
    "\n",
    "                                    \n",
    "                               \n",
    "\n",
    "First, you will need to set up an email system through python and be able to receive emails through your email box. The emails which you receive are encrypted and you need to use a function provided in order to decode them. In addition, the emails which you will send are encrypted as well. \n",
    "\n",
    "The method for encryption uses reversing a Key Code. It is not like any other method where you would shift key codes and just shift them back to decode them.  This method reverses the key code number of a given lowercase English letter and changes it to another character for encryption. The same method applies when you want to decode the message. This method seems simple at first, however, there was a lot of work going into how to get the method to work and also seeing what limitations it had to offer.  Information will be provided on how the function works in  (Norah_function.py).  This project had many incorporations of Assignment 3 in it in order to create inputs and outputs. Also, Assignment 4 because functions were created for given tasks. \n",
    "\n",
    "Each character has a key code attached to it. Of course, there are so many ways to move key codes by units to get a different key code and just move back to the original key code of that message. What I mean is that it is simple to just move key codes and it is easy to decode them that was what A2 did.\n",
    "\n",
    "To make things advance. I thought about an idea to reverse the key code given for example lower case \"a\"  keycode is 97 and my function will reverse the key code to 79. However, I run into many issues. One particular is that say an original key code is 100 of a letter d and if I use my function to reverse it then the key code will be 001. Now, python will then think that it is 1 and remove all the zeros. Once you try to reverse back ( decode it), you won't get the original letter. Instead, you will get an empty space or another letter.   \n",
    "\n",
    "Furthermore,  there is a notebook that keeps a record of the issues I ran into and how I solved them. The notebook name is \"Norah_issues_solved.\"Also, the notebook highlights how I thought about my project and gives a final resolution to the functions you see in (functions.py) .\n",
    "\n",
    "\n",
    "\n",
    "\n"
   ]
  },
  {
   "cell_type": "code",
   "execution_count": 7,
   "metadata": {},
   "outputs": [],
   "source": [
    "from my_module.functions import *\n",
    "\n"
   ]
  },
  {
   "cell_type": "code",
   "execution_count": 8,
   "metadata": {
    "scrolled": true
   },
   "outputs": [
    {
     "name": "stdout",
     "output_type": "stream",
     "text": [
      "INPUT :\tfjaf\n",
      "INPUT :\taf;djakljf\n",
      "INPUT :\tasdfjahsdfla\n",
      "INPUT :\tquit\n",
      "ENCODED:\n",
      "ÉəOÉ\n",
      "OÉ_dəOʽ̡əÉ\n",
      "OǿdÉəOƑǿdÉ̡O\n",
      "\n",
      "DECODED:\n",
      "fjaf\n",
      "af;djakljf\n",
      "asdfjahsdfla\n",
      "\n"
     ]
    }
   ],
   "source": [
    "\"\"\"\"Writing the encoding email: takes the input of the user and gives back an encoded message. In addition, it gives \n",
    "    back the decoded message. The encoded message will be sent with the email after two additional inputs \"\"\"\n",
    "\n",
    "# To end the inputs the word 'quit' will break out of the inputs print.Make sure when you are done\n",
    "# with your inputs to end with typeing  \"quit\".\n",
    "\n",
    "toPrint_encoded = encode_message (have_a_email())\n",
    "\n",
    "\n",
    "print(\"ENCODED:\\n\" + toPrint_encoded )\n",
    "\n",
    "# This will print the out the decoded message as references for the input. \n",
    "# Also, it makes the decoded lower case because it works best with the algorithm. \n",
    "\n",
    "print(\"DECODED:\\n\" + decode_message(toPrint_encoded))\n",
    "\n"
   ]
  },
  {
   "cell_type": "code",
   "execution_count": 9,
   "metadata": {},
   "outputs": [
    {
     "name": "stdout",
     "output_type": "stream",
     "text": [
      "INPUT :\tnhoussie@ucsd.edu\n"
     ]
    }
   ],
   "source": [
    "# The user inputs their email here.\n",
    "user_email= input('INPUT :\\t')"
   ]
  },
  {
   "cell_type": "code",
   "execution_count": 10,
   "metadata": {},
   "outputs": [
    {
     "name": "stdout",
     "output_type": "stream",
     "text": [
      "INPUT :\tjhfdlash\n"
     ]
    }
   ],
   "source": [
    "# The user inputs the subject for the email. \n",
    "user_subject_email= input('INPUT :\\t')"
   ]
  },
  {
   "cell_type": "code",
   "execution_count": 11,
   "metadata": {},
   "outputs": [
    {
     "name": "stdout",
     "output_type": "stream",
     "text": [
      "\n",
      "SETTING UP SMTP MAIL SERVER.\n",
      "\n",
      "CREATING EMAIL.\n",
      "\n",
      "PRINT OUT CREATED EMAIL:\n",
      "\n",
      "Content-Type: text/plain; charset=\"utf-8\"\n",
      "MIME-Version: 1.0\n",
      "Content-Transfer-Encoding: base64\n",
      "From: cogs18.norah@gmail.com\n",
      "To: nhoussie@ucsd.edu\n",
      "Subject: jhfdlash\n",
      "\n",
      "w4nJmU/DiQpPw4lfZMmZT8q9zKHJmcOJCk/Hv2TDicmZT8aRx79kw4nMoU8K\n",
      "\n",
      "SENDING EMAIL\n",
      "EMAIL SENT!\n"
     ]
    }
   ],
   "source": [
    "\"\"\"Sending an email.\"\"\"\n",
    "import time\n",
    "import smtplib\n",
    "from email.mime.text import MIMEText\n",
    "\n",
    "# This takes the output form the encoded message and sends it in an email. \n",
    "\n",
    "EMAIL_TEXT = toPrint_encoded\n",
    "\n",
    "\n",
    "\n",
    "def main():\n",
    "\n",
    "    print(\"\\nSETTING UP SMTP MAIL SERVER.\\n\")\n",
    "\n",
    "    smtp = smtplib.SMTP('smtp.gmail.com', 587)\n",
    "    smtp.starttls()\n",
    "    \n",
    "    smtp.ehlo()\n",
    "    \n",
    "    smtp.login(\"cogs18.norah@gmail.com\", \"cogs18.norah_65\")\n",
    "\n",
    "    # First, you will need to set up an email for in order for this to work. Here I have provided an email for you.\n",
    "    # In the future, you will need to set up the email because in 30 days from now the email provided will be deleted.\n",
    "    print(\"CREATING EMAIL.\")\n",
    "    time.sleep(2)\n",
    "    msg = MIMEText(EMAIL_TEXT)\n",
    "    msg['From'] = \"cogs18.norah@gmail.com\"\n",
    "    msg['To'] = user_email\n",
    "    msg['Subject'] = user_subject_email\n",
    "\n",
    "    # Check out the email\n",
    "    print(\"\\nPRINT OUT CREATED EMAIL:\\n\")\n",
    "    \n",
    "    # This factor or one similar to it, \"xpFlzKHMoW8XCg==, ect\" looks difffernt than encoded \n",
    "    #but it does email encoded message.\n",
    "    # This factor is due to msg in python which has its own lanuage, thus, coverting  \n",
    "    # This factor is a good thing. \n",
    "    print(msg)\n",
    "\n",
    "    time.sleep(4)\n",
    "\n",
    "    # Send message\n",
    "    print(\"SENDING EMAIL\")\n",
    "    smtp.send_message(msg)\n",
    "    time.sleep(1)\n",
    "    print('EMAIL SENT!')\n",
    "\n",
    "if __name__ == \"__main__\":\n",
    "    main()"
   ]
  },
  {
   "cell_type": "code",
   "execution_count": null,
   "metadata": {},
   "outputs": [],
   "source": [
    "# This input is for the decoding messages delivered by others. \n",
    "\n",
    "toPrint_decoding = encode_message (have_a_email_decoding())\n",
    "\n",
    "print(\"DECODED:\\n\" + toPrint_decoding)"
   ]
  },
  {
   "cell_type": "markdown",
   "metadata": {},
   "source": [
    "## Running the tests\n",
    "\n",
    "The test functions are further explained under test_functions.py.  The test functions test the inputs and outputs, if the functions are callable, and checks if the functions give you a string.\n",
    "\n",
    "\n",
    "## Limitations in the code\n",
    "There is a Jupyter notebook that highlights the limitations in the code ( Norah_issues_solved), but here is a summary:\n",
    "* All inputs will be changed to lowercase letter/characters \n",
    "* Letters like (d,n,x) will not be encoded or decoded because reversing their keycodes removes the zeros and doesn't give back the letters. "
   ]
  },
  {
   "cell_type": "markdown",
   "metadata": {},
   "source": [
    "# This is the link to my project on GitHub\n",
    "\n",
    "Github account name: nhoussie\n",
    "\n",
    "\n",
    "Link: https://github.com/nhoussie/EmailEncryptor\n",
    "    "
   ]
  }
 ],
 "metadata": {
  "kernelspec": {
   "display_name": "Python 3",
   "language": "python",
   "name": "python3"
  },
  "language_info": {
   "codemirror_mode": {
    "name": "ipython",
    "version": 3
   },
   "file_extension": ".py",
   "mimetype": "text/x-python",
   "name": "python",
   "nbconvert_exporter": "python",
   "pygments_lexer": "ipython3",
   "version": "3.6.5"
  }
 },
 "nbformat": 4,
 "nbformat_minor": 2
}
