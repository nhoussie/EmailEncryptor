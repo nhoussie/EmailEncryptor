{
 "cells": [
  {
   "cell_type": "markdown",
   "metadata": {},
   "source": [
    "#                                     Advancing A2 Through Reversing Key Code! \n",
    "Advancing A2 Through Reversing Key Code! \n",
    "                                    \n",
    "                                    Welcome CIA Saff!\n",
    "\n",
    "You are working for the CIA  now and we take our job very seriously. To not have our country secrets exposed,  we communicate with each other using encryption and decryption. \n",
    "\n",
    "First, you will need to set up an email system through python and be able to receive emails through your email box. The emails which you receive are encrypted and you need to use a function provided in order to decode them. In addition, the emails which you will send are encrypted as well. \n",
    "\n",
    "The method for encryption uses reversing a Key Code. It is not like any other method where you would shift key codes and just shift them back to decode them.  This method reverses the key code number and changes it to another character for encryption and the same method applies when you want to decode the message. This method seems simple at first, however, there was a lot of work going into how to get the method to work and also seeing what limition there is to it.  Information will be provided on how the function works in (Norah_functio.py).  This project had many incorporations of Assignment 3 in it in order to create inputs and outputs. Also, Assignment 4 because functions were created for given tasks. \n",
    "\n",
    "\n",
    "Furthermore,  there is  notebook that keeps a record of the issues I ran into and how I solved them. The notebook name is \"Norah_issues_solved.\"Also, the notebook highlights how I thought about my project. \n",
    "\n",
    "\n"
   ]
  },
  {
   "cell_type": "code",
   "execution_count": 16,
   "metadata": {},
   "outputs": [],
   "source": [
    "from Norah_function import *\n",
    "\n"
   ]
  },
  {
   "cell_type": "code",
   "execution_count": 17,
   "metadata": {
    "scrolled": true
   },
   "outputs": [
    {
     "name": "stdout",
     "output_type": "stream",
     "text": [
      "INPUT :\tHello, \n",
      "INPUT :\tHow are you?\n",
      "INPUT :\tquit\n",
      "ENCODED:\n",
      "Ƒe̡̡o,\u0017\n",
      "ƑoΏ\u0017Oƛe\u0017yoˇ$\n",
      "\n",
      "DECODED:\n",
      "hello, \n",
      "how are you?\n",
      "\n"
     ]
    }
   ],
   "source": [
    "toPrint_encoded = encode_message (have_a_email())\n",
    "\n",
    "\n",
    "print(\"ENCODED:\\n\" + toPrint_encoded)\n",
    "\n",
    "print(\"DECODED:\\n\" + decode_message(toPrint_encoded))\n",
    "\n"
   ]
  },
  {
   "cell_type": "code",
   "execution_count": null,
   "metadata": {},
   "outputs": [],
   "source": [
    "\"\"\"Sending an email.\"\"\"\n",
    "import time\n",
    "import smtplib\n",
    "from email.mime.text import MIMEText\n",
    "\n",
    "EMAIL_TEXT = toPrint_encoded\n",
    "\n",
    "\n",
    "\n",
    "def main():\n",
    "\n",
    "    print(\"\\nSETTING UP SMTP MAIL SERVER.\\n\")\n",
    "\n",
    "    smtp = smtplib.SMTP('smtp.gmail.com', 587)\n",
    "    smtp.starttls()\n",
    "    \n",
    "    smtp.ehlo()\n",
    "    \n",
    "    smtp.login(\"cogs18.norah@gmail.com\", \"cogs18.norah_65\")\n",
    "\n",
    "    # First you will need to set up an email for in oder for this to work. \n",
    "    print(\"CREATING EMAIL.\")\n",
    "    time.sleep(2)\n",
    "    msg = MIMEText(EMAIL_TEXT)\n",
    "    msg['From'] = \"cogs18.norah@gmail.com\"\n",
    "    msg['To'] = \" shoussie@ucsd.edu\"\n",
    "    msg['Subject'] = 'First Assignment '\n",
    "\n",
    "    # Check out the email\n",
    "    print(\"\\nPRINT OUT CREATED EMAIL:\\n\")\n",
    "    print(msg)\n",
    "\n",
    "    time.sleep(4)\n",
    "\n",
    "    # Send message\n",
    "    print(\"SENDING EMAIL\")\n",
    "    smtp.send_message(msg)\n",
    "    time.sleep(1)\n",
    "    print('EMAIL SENT!')\n",
    "\n",
    "if __name__ == \"__main__\":\n",
    "    main()"
   ]
  },
  {
   "cell_type": "code",
   "execution_count": null,
   "metadata": {},
   "outputs": [],
   "source": [
    "\n",
    "toPrint_decoding = encode_message (have_a_email_decoding())\n",
    "\n",
    "print(\"DECODED:\\n\" + toPrint_decoding)"
   ]
  }
 ],
 "metadata": {
  "kernelspec": {
   "display_name": "Python 3",
   "language": "python",
   "name": "python3"
  },
  "language_info": {
   "codemirror_mode": {
    "name": "ipython",
    "version": 3
   },
   "file_extension": ".py",
   "mimetype": "text/x-python",
   "name": "python",
   "nbconvert_exporter": "python",
   "pygments_lexer": "ipython3",
   "version": "3.6.5"
  }
 },
 "nbformat": 4,
 "nbformat_minor": 2
}
