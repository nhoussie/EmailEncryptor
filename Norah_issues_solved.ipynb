{
 "cells": [
  {
   "cell_type": "markdown",
   "metadata": {},
   "source": [
    "#                                    Issues encountered with the project.             \n",
    "\n",
    "\n",
    "In this notebook, I will highlight the issues I ran into and how I tried to solve them at the end. In addition, this notebook goes into to how I thought about the algorithm of my encryption.\n"
   ]
  },
  {
   "cell_type": "markdown",
   "metadata": {},
   "source": [
    "####  Running into Issues \n",
    "\n",
    "\n",
    "Each character has a key code attached to it. Of course, there are so many ways to move key codes by units to get a different key code and just move back to the original key code of that message. What I mean is that it is simple to just move key codes and it is easy to decode them that was what A2 did.\n",
    "\n",
    "To make things advance. I thought about an idea to reverse the key code given for example lower case a= key code is 97 and my function will reverse the key code to 79. However, I run into many issues. One particular is that say an original key code is 100 of a letter d and if I use my function to reverse it then the key code will be 001. Now, python will then think that it is 1 and remove all the zeros. Once you try to reverse back ( decode it), you won't get the original letter. Instead, you will get an empty space or another letter.                      \n",
    "                                   "
   ]
  },
  {
   "cell_type": "code",
   "execution_count": 25,
   "metadata": {},
   "outputs": [
    {
     "name": "stdout",
     "output_type": "stream",
     "text": [
      "100\n"
     ]
    }
   ],
   "source": [
    "# This is the letter which will give you a default of 1 once it is reversed. \n",
    "#In addation, you will get an empty space once you reverse it back. \n",
    "print( ord('d'))"
   ]
  },
  {
   "cell_type": "code",
   "execution_count": 119,
   "metadata": {},
   "outputs": [
    {
     "name": "stdout",
     "output_type": "stream",
     "text": [
      "\u0001\n"
     ]
    }
   ],
   "source": [
    "# This is to show you that once I reverse the key code of d I get an empty space. \n",
    "# This example is not using my function, but it is a test to see what chr is given with 1; which is a n empty space\n",
    "print(chr(1))"
   ]
  },
  {
   "cell_type": "markdown",
   "metadata": {},
   "source": [
    "####  Running into Issues.\n",
    "The lower case \"d\" is not the only issue but other letters like lower case n and x.   \n"
   ]
  },
  {
   "cell_type": "code",
   "execution_count": 116,
   "metadata": {},
   "outputs": [
    {
     "name": "stdout",
     "output_type": "stream",
     "text": [
      "120\n"
     ]
    }
   ],
   "source": [
    "# This is the same example as lower case d but with the lower case x.\n",
    "print(ord('x'))"
   ]
  },
  {
   "cell_type": "code",
   "execution_count": 118,
   "metadata": {},
   "outputs": [
    {
     "name": "stdout",
     "output_type": "stream",
     "text": [
      "\u0015\n"
     ]
    }
   ],
   "source": [
    "# once I reverse the Key code . It will give you the same issue (empty space)\n",
    "# again this is not using my function just yet, but it is to proof my concept. \n",
    "print(chr(21))"
   ]
  },
  {
   "cell_type": "markdown",
   "metadata": {},
   "source": [
    "####  Here is how the issue played out in my code\n",
    "Every time it reverses the key code for d, n, x python removes the zeros and gives me an empty space with no letters like d ,n  ,x . What I mean by an empty space is that it doesn't give me back the letters I gave it to encode. Thus, the letters are lost."
   ]
  },
  {
   "cell_type": "code",
   "execution_count": 95,
   "metadata": {},
   "outputs": [],
   "source": [
    "# This fuctions have been explained in Norah_function. \n",
    "def reverse_string_issue(my_string):\n",
    "    return ''.join(list(reversed(list(my_string))))\n",
    "\n",
    "def reverse_chr_issue(some_chr_issue):\n",
    "    return chr(int(reverse_string_issue(str(ord(some_chr_issue)))))"
   ]
  },
  {
   "cell_type": "code",
   "execution_count": 96,
   "metadata": {},
   "outputs": [],
   "source": [
    "# As you can see that the encode and decode use the same function because they are opposite of each other.\n",
    "\n",
    "def encode_chr_issue(some_chr_issue):\n",
    "    return reverse_chr_issue(some_chr_issue)\n",
    "\n",
    "def decode_chr_issue(some_chr_issue):\n",
    "    return reverse_chr_issue(some_chr_issue)"
   ]
  },
  {
   "cell_type": "code",
   "execution_count": 121,
   "metadata": {},
   "outputs": [
    {
     "name": "stdout",
     "output_type": "stream",
     "text": [
      "OYc\u0001eÉĭƑǵəʽ̡΅\u000b",
      "oÓƛǿɣˇ̫Ώ\u0015yÝ\n"
     ]
    }
   ],
   "source": [
    "# This is the encoded message. It uses the same function.\n",
    "\n",
    "message= \"abcdefghijklmnoprstuvwxyz\"\n",
    "output = ''\n",
    "for char in message:    \n",
    "        output += reverse_chr_issue (char)\n",
    "\n",
    "print(output)\n",
    "\n"
   ]
  },
  {
   "cell_type": "code",
   "execution_count": 122,
   "metadata": {},
   "outputs": [
    {
     "name": "stdout",
     "output_type": "stream",
     "text": [
      "abc\u0001efghijklm\u000b",
      "oprstuvw\f",
      "yz\n"
     ]
    }
   ],
   "source": [
    "# This is the decoded message to show the output. As you can see the output is missing the letters (d ,n ,x)\n",
    "message= output\n",
    "output = ''\n",
    "for char in message:    \n",
    "        output += reverse_chr_issue(char)\n",
    "        \n",
    "print(output)"
   ]
  },
  {
   "cell_type": "markdown",
   "metadata": {},
   "source": [
    "####  How I tried to solve the missing letters like d,n, and x\n",
    " \n",
    " I assigned the empty ords that they give me to the letters that they are suposed to be or not the. "
   ]
  },
  {
   "cell_type": "code",
   "execution_count": 113,
   "metadata": {},
   "outputs": [],
   "source": [
    "\n",
    "def reverse_string_solved(my_string):\n",
    "    \n",
    "    return ''.join(list(reversed(list(my_string))))\n",
    "\n",
    "# note that my encode and decode methods use the same function becasue are oppiste of each other and in order\n",
    "# to bring one key code back it would just reverse it. \n",
    "def reverse_chr_solved(some_chr):\n",
    "    check= (int(reverse_string_solved(str(ord(some_chr)))))\n",
    "    \n",
    "    checking = check_empty(check)\n",
    "    \n",
    "    checking= chr(checking)\n",
    "    \n",
    "    return checking\n",
    "\n",
    "# The check_empty function looks at every key code that produces empty and assigns to the letter which is supposed to\n",
    "# be in oder for the letter to show up in the decoding part. This function \n",
    "def check_empty(empty):\n",
    "    produce = empty\n",
    "    \n",
    "    # d \n",
    "    if empty == 1:\n",
    "        produce = 100\n",
    "    \n",
    "    #n\n",
    "    if empty == 11:\n",
    "        produce = 110\n",
    "    \n",
    "    #x\n",
    "    if empty == 21:\n",
    "        produce = 120\n",
    "    return produce\n",
    "\n",
    "\n",
    "\n",
    "\n"
   ]
  },
  {
   "cell_type": "code",
   "execution_count": 114,
   "metadata": {},
   "outputs": [
    {
     "name": "stdout",
     "output_type": "stream",
     "text": [
      "OYcdeÉĭƑǵəʽ̡΅noÓƛǿɣˇ̫ΏxyÝ\n"
     ]
    }
   ],
   "source": [
    "# This part is the encoding. \n",
    "message= \"abcdefghijklmnoprstuvwxyz\"\n",
    "output = ''\n",
    "for char in message:    \n",
    "        output += reverse_chr_solved(char)\n",
    "\n",
    "print(output)\n",
    "\n"
   ]
  },
  {
   "cell_type": "code",
   "execution_count": 115,
   "metadata": {},
   "outputs": [
    {
     "name": "stdout",
     "output_type": "stream",
     "text": [
      "abcdefghijklmnoprstuvwxyz\n"
     ]
    }
   ],
   "source": [
    "# This part is the decoding. \n",
    "message= output\n",
    "output = ''\n",
    "for char in message:    \n",
    "        output += reverse_chr_solved(char)\n",
    "        \n",
    "print(output)"
   ]
  },
  {
   "cell_type": "markdown",
   "metadata": {},
   "source": [
    "#                                     The final resolution. \n",
    "\n",
    "\n",
    "After coming to a lot of office hours and disscuing the many issues I ran into. I decided to not count for the letter (d,x,n) in my matuer code. The function works perfectly now and I dont run into problems like I did beofre. \n",
    "                                    \n",
    "                                   \n",
    "\n",
    "\n"
   ]
  },
  {
   "cell_type": "code",
   "execution_count": null,
   "metadata": {},
   "outputs": [],
   "source": []
  }
 ],
 "metadata": {
  "kernelspec": {
   "display_name": "Python 3",
   "language": "python",
   "name": "python3"
  },
  "language_info": {
   "codemirror_mode": {
    "name": "ipython",
    "version": 3
   },
   "file_extension": ".py",
   "mimetype": "text/x-python",
   "name": "python",
   "nbconvert_exporter": "python",
   "pygments_lexer": "ipython3",
   "version": "3.6.5"
  }
 },
 "nbformat": 4,
 "nbformat_minor": 2
}
